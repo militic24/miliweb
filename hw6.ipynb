{
  "nbformat": 4,
  "nbformat_minor": 0,
  "metadata": {
    "colab": {
      "provenance": [],
      "authorship_tag": "ABX9TyNAbeu7j6wDXyVcD7j5aKCv",
      "include_colab_link": true
    },
    "kernelspec": {
      "name": "python3",
      "display_name": "Python 3"
    },
    "language_info": {
      "name": "python"
    }
  },
  "cells": [
    {
      "cell_type": "markdown",
      "metadata": {
        "id": "view-in-github",
        "colab_type": "text"
      },
      "source": [
        "<a href=\"https://colab.research.google.com/github/militic24/miliweb/blob/main/hw6.ipynb\" target=\"_parent\"><img src=\"https://colab.research.google.com/assets/colab-badge.svg\" alt=\"Open In Colab\"/></a>"
      ]
    },
    {
      "cell_type": "code",
      "source": [
        "!pip install astpretty\n"
      ],
      "metadata": {
        "colab": {
          "base_uri": "https://localhost:8080/"
        },
        "id": "OQH_V-vz3ZyZ",
        "outputId": "e6ac3b99-69c8-421e-8a5c-6f372cd72c4a"
      },
      "execution_count": 15,
      "outputs": [
        {
          "output_type": "stream",
          "name": "stdout",
          "text": [
            "Requirement already satisfied: astpretty in /usr/local/lib/python3.11/dist-packages (3.0.0)\n"
          ]
        }
      ]
    },
    {
      "cell_type": "code",
      "source": [
        "import ast\n",
        "import astpretty\n",
        "\n",
        "expr = \"((4 + 7) * (11 - 5)) / 2\"\n",
        "tree = ast.parse(expr)\n",
        "\n",
        "astpretty.pprint(tree)"
      ],
      "metadata": {
        "colab": {
          "base_uri": "https://localhost:8080/"
        },
        "collapsed": true,
        "id": "b9YeNXsMBAh1",
        "outputId": "c47859a8-ae52-4828-83ba-a45a264fa621"
      },
      "execution_count": 21,
      "outputs": [
        {
          "output_type": "stream",
          "name": "stdout",
          "text": [
            "Module(\n",
            "    body=[\n",
            "        Expr(\n",
            "            lineno=1,\n",
            "            col_offset=0,\n",
            "            end_lineno=1,\n",
            "            end_col_offset=24,\n",
            "            value=BinOp(\n",
            "                lineno=1,\n",
            "                col_offset=0,\n",
            "                end_lineno=1,\n",
            "                end_col_offset=24,\n",
            "                left=BinOp(\n",
            "                    lineno=1,\n",
            "                    col_offset=1,\n",
            "                    end_lineno=1,\n",
            "                    end_col_offset=19,\n",
            "                    left=BinOp(\n",
            "                        lineno=1,\n",
            "                        col_offset=2,\n",
            "                        end_lineno=1,\n",
            "                        end_col_offset=7,\n",
            "                        left=Constant(lineno=1, col_offset=2, end_lineno=1, end_col_offset=3, value=4, kind=None),\n",
            "                        op=Add(),\n",
            "                        right=Constant(lineno=1, col_offset=6, end_lineno=1, end_col_offset=7, value=7, kind=None),\n",
            "                    ),\n",
            "                    op=Mult(),\n",
            "                    right=BinOp(\n",
            "                        lineno=1,\n",
            "                        col_offset=12,\n",
            "                        end_lineno=1,\n",
            "                        end_col_offset=18,\n",
            "                        left=Constant(lineno=1, col_offset=12, end_lineno=1, end_col_offset=14, value=11, kind=None),\n",
            "                        op=Sub(),\n",
            "                        right=Constant(lineno=1, col_offset=17, end_lineno=1, end_col_offset=18, value=5, kind=None),\n",
            "                    ),\n",
            "                ),\n",
            "                op=Div(),\n",
            "                right=Constant(lineno=1, col_offset=23, end_lineno=1, end_col_offset=24, value=2, kind=None),\n",
            "            ),\n",
            "        ),\n",
            "    ],\n",
            "    type_ignores=[],\n",
            ")\n"
          ]
        }
      ]
    },
    {
      "cell_type": "code",
      "source": [
        "expr = \"b**6 > 9*a*c and a != 0\"\n",
        "tree = ast.parse(expr, mode='eval')\n",
        "\n",
        "astpretty.pprint(tree)"
      ],
      "metadata": {
        "colab": {
          "base_uri": "https://localhost:8080/"
        },
        "collapsed": true,
        "id": "1DhnY3GSBF6O",
        "outputId": "fd1b4b66-f250-4787-b8a5-249301ab765f"
      },
      "execution_count": 22,
      "outputs": [
        {
          "output_type": "stream",
          "name": "stdout",
          "text": [
            "Expression(\n",
            "    body=BoolOp(\n",
            "        lineno=1,\n",
            "        col_offset=0,\n",
            "        end_lineno=1,\n",
            "        end_col_offset=23,\n",
            "        op=And(),\n",
            "        values=[\n",
            "            Compare(\n",
            "                lineno=1,\n",
            "                col_offset=0,\n",
            "                end_lineno=1,\n",
            "                end_col_offset=12,\n",
            "                left=BinOp(\n",
            "                    lineno=1,\n",
            "                    col_offset=0,\n",
            "                    end_lineno=1,\n",
            "                    end_col_offset=4,\n",
            "                    left=Name(lineno=1, col_offset=0, end_lineno=1, end_col_offset=1, id='b', ctx=Load()),\n",
            "                    op=Pow(),\n",
            "                    right=Constant(lineno=1, col_offset=3, end_lineno=1, end_col_offset=4, value=6, kind=None),\n",
            "                ),\n",
            "                ops=[Gt()],\n",
            "                comparators=[\n",
            "                    BinOp(\n",
            "                        lineno=1,\n",
            "                        col_offset=7,\n",
            "                        end_lineno=1,\n",
            "                        end_col_offset=12,\n",
            "                        left=BinOp(\n",
            "                            lineno=1,\n",
            "                            col_offset=7,\n",
            "                            end_lineno=1,\n",
            "                            end_col_offset=10,\n",
            "                            left=Constant(lineno=1, col_offset=7, end_lineno=1, end_col_offset=8, value=9, kind=None),\n",
            "                            op=Mult(),\n",
            "                            right=Name(lineno=1, col_offset=9, end_lineno=1, end_col_offset=10, id='a', ctx=Load()),\n",
            "                        ),\n",
            "                        op=Mult(),\n",
            "                        right=Name(lineno=1, col_offset=11, end_lineno=1, end_col_offset=12, id='c', ctx=Load()),\n",
            "                    ),\n",
            "                ],\n",
            "            ),\n",
            "            Compare(\n",
            "                lineno=1,\n",
            "                col_offset=17,\n",
            "                end_lineno=1,\n",
            "                end_col_offset=23,\n",
            "                left=Name(lineno=1, col_offset=17, end_lineno=1, end_col_offset=18, id='a', ctx=Load()),\n",
            "                ops=[NotEq()],\n",
            "                comparators=[Constant(lineno=1, col_offset=22, end_lineno=1, end_col_offset=23, value=0, kind=None)],\n",
            "            ),\n",
            "        ],\n",
            "    ),\n",
            ")\n"
          ]
        }
      ]
    },
    {
      "cell_type": "code",
      "source": [
        "code = \"\"\"\n",
        "for i in range(5):\n",
        "    print(i**4)\n",
        "\n",
        "while x < 15:\n",
        "    x += 1\n",
        "\"\"\"\n",
        "\n",
        "tree = ast.parse(code)\n",
        "\n",
        "astpretty.pprint(tree)\n"
      ],
      "metadata": {
        "collapsed": true,
        "colab": {
          "base_uri": "https://localhost:8080/"
        },
        "id": "pgxxsTjoBJoc",
        "outputId": "55f62fa7-8657-45f8-a7d0-a41dcf00cf96"
      },
      "execution_count": 23,
      "outputs": [
        {
          "output_type": "stream",
          "name": "stdout",
          "text": [
            "Module(\n",
            "    body=[\n",
            "        For(\n",
            "            lineno=2,\n",
            "            col_offset=0,\n",
            "            end_lineno=3,\n",
            "            end_col_offset=15,\n",
            "            target=Name(lineno=2, col_offset=4, end_lineno=2, end_col_offset=5, id='i', ctx=Store()),\n",
            "            iter=Call(\n",
            "                lineno=2,\n",
            "                col_offset=9,\n",
            "                end_lineno=2,\n",
            "                end_col_offset=17,\n",
            "                func=Name(lineno=2, col_offset=9, end_lineno=2, end_col_offset=14, id='range', ctx=Load()),\n",
            "                args=[Constant(lineno=2, col_offset=15, end_lineno=2, end_col_offset=16, value=5, kind=None)],\n",
            "                keywords=[],\n",
            "            ),\n",
            "            body=[\n",
            "                Expr(\n",
            "                    lineno=3,\n",
            "                    col_offset=4,\n",
            "                    end_lineno=3,\n",
            "                    end_col_offset=15,\n",
            "                    value=Call(\n",
            "                        lineno=3,\n",
            "                        col_offset=4,\n",
            "                        end_lineno=3,\n",
            "                        end_col_offset=15,\n",
            "                        func=Name(lineno=3, col_offset=4, end_lineno=3, end_col_offset=9, id='print', ctx=Load()),\n",
            "                        args=[\n",
            "                            BinOp(\n",
            "                                lineno=3,\n",
            "                                col_offset=10,\n",
            "                                end_lineno=3,\n",
            "                                end_col_offset=14,\n",
            "                                left=Name(lineno=3, col_offset=10, end_lineno=3, end_col_offset=11, id='i', ctx=Load()),\n",
            "                                op=Pow(),\n",
            "                                right=Constant(lineno=3, col_offset=13, end_lineno=3, end_col_offset=14, value=4, kind=None),\n",
            "                            ),\n",
            "                        ],\n",
            "                        keywords=[],\n",
            "                    ),\n",
            "                ),\n",
            "            ],\n",
            "            orelse=[],\n",
            "            type_comment=None,\n",
            "        ),\n",
            "        While(\n",
            "            lineno=5,\n",
            "            col_offset=0,\n",
            "            end_lineno=6,\n",
            "            end_col_offset=10,\n",
            "            test=Compare(\n",
            "                lineno=5,\n",
            "                col_offset=6,\n",
            "                end_lineno=5,\n",
            "                end_col_offset=12,\n",
            "                left=Name(lineno=5, col_offset=6, end_lineno=5, end_col_offset=7, id='x', ctx=Load()),\n",
            "                ops=[Lt()],\n",
            "                comparators=[Constant(lineno=5, col_offset=10, end_lineno=5, end_col_offset=12, value=15, kind=None)],\n",
            "            ),\n",
            "            body=[\n",
            "                AugAssign(\n",
            "                    lineno=6,\n",
            "                    col_offset=4,\n",
            "                    end_lineno=6,\n",
            "                    end_col_offset=10,\n",
            "                    target=Name(lineno=6, col_offset=4, end_lineno=6, end_col_offset=5, id='x', ctx=Store()),\n",
            "                    op=Add(),\n",
            "                    value=Constant(lineno=6, col_offset=9, end_lineno=6, end_col_offset=10, value=1, kind=None),\n",
            "                ),\n",
            "            ],\n",
            "            orelse=[],\n",
            "        ),\n",
            "    ],\n",
            "    type_ignores=[],\n",
            ")\n"
          ]
        }
      ]
    },
    {
      "cell_type": "code",
      "source": [
        "code = \"\"\"\n",
        "def cuadrado(x):\n",
        "    return x**5\n",
        "\n",
        "doble = lambda y: y * 3\n",
        "\"\"\"\n",
        "\n",
        "tree = ast.parse(code)\n",
        "\n",
        "astpretty.pprint(tree)\n"
      ],
      "metadata": {
        "collapsed": true,
        "colab": {
          "base_uri": "https://localhost:8080/"
        },
        "id": "OPmM4ATNBL5l",
        "outputId": "004c206f-1e0a-40ac-cad9-459fcd3f36f6"
      },
      "execution_count": 24,
      "outputs": [
        {
          "output_type": "stream",
          "name": "stdout",
          "text": [
            "Module(\n",
            "    body=[\n",
            "        FunctionDef(\n",
            "            lineno=2,\n",
            "            col_offset=0,\n",
            "            end_lineno=3,\n",
            "            end_col_offset=15,\n",
            "            name='cuadrado',\n",
            "            args=arguments(\n",
            "                posonlyargs=[],\n",
            "                args=[arg(lineno=2, col_offset=13, end_lineno=2, end_col_offset=14, arg='x', annotation=None, type_comment=None)],\n",
            "                vararg=None,\n",
            "                kwonlyargs=[],\n",
            "                kw_defaults=[],\n",
            "                kwarg=None,\n",
            "                defaults=[],\n",
            "            ),\n",
            "            body=[\n",
            "                Return(\n",
            "                    lineno=3,\n",
            "                    col_offset=4,\n",
            "                    end_lineno=3,\n",
            "                    end_col_offset=15,\n",
            "                    value=BinOp(\n",
            "                        lineno=3,\n",
            "                        col_offset=11,\n",
            "                        end_lineno=3,\n",
            "                        end_col_offset=15,\n",
            "                        left=Name(lineno=3, col_offset=11, end_lineno=3, end_col_offset=12, id='x', ctx=Load()),\n",
            "                        op=Pow(),\n",
            "                        right=Constant(lineno=3, col_offset=14, end_lineno=3, end_col_offset=15, value=5, kind=None),\n",
            "                    ),\n",
            "                ),\n",
            "            ],\n",
            "            decorator_list=[],\n",
            "            returns=None,\n",
            "            type_comment=None,\n",
            "        ),\n",
            "        Assign(\n",
            "            lineno=5,\n",
            "            col_offset=0,\n",
            "            end_lineno=5,\n",
            "            end_col_offset=23,\n",
            "            targets=[Name(lineno=5, col_offset=0, end_lineno=5, end_col_offset=5, id='doble', ctx=Store())],\n",
            "            value=Lambda(\n",
            "                lineno=5,\n",
            "                col_offset=8,\n",
            "                end_lineno=5,\n",
            "                end_col_offset=23,\n",
            "                args=arguments(\n",
            "                    posonlyargs=[],\n",
            "                    args=[arg(lineno=5, col_offset=15, end_lineno=5, end_col_offset=16, arg='y', annotation=None, type_comment=None)],\n",
            "                    vararg=None,\n",
            "                    kwonlyargs=[],\n",
            "                    kw_defaults=[],\n",
            "                    kwarg=None,\n",
            "                    defaults=[],\n",
            "                ),\n",
            "                body=BinOp(\n",
            "                    lineno=5,\n",
            "                    col_offset=18,\n",
            "                    end_lineno=5,\n",
            "                    end_col_offset=23,\n",
            "                    left=Name(lineno=5, col_offset=18, end_lineno=5, end_col_offset=19, id='y', ctx=Load()),\n",
            "                    op=Mult(),\n",
            "                    right=Constant(lineno=5, col_offset=22, end_lineno=5, end_col_offset=23, value=3, kind=None),\n",
            "                ),\n",
            "            ),\n",
            "            type_comment=None,\n",
            "        ),\n",
            "    ],\n",
            "    type_ignores=[],\n",
            ")\n"
          ]
        }
      ]
    }
  ]
}